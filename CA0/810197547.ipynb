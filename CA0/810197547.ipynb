{
 "cells": [
  {
   "cell_type": "markdown",
   "metadata": {},
   "source": [
    "<p style=\"color:blue;font-size:18px;\">\n",
    "Name: Sajjad Alizadeh\n",
    "<br>STD number: 810197547\n",
    "<br>Subject: AI-CA0 report and code</p>\n",
    "\n",
    "<br><div dir=\"rtl\" style=\"color:black;font-size:18px;\">\n",
    "پروژه صفر: آشنایی با هوش مصنوعی\n",
    "    <br>\n",
    "هدف از این پروژه پر کردن نواقص یک دیتاست با پیش بینی آنها به کمک تحلیل آماری است.\n",
    "    <br>\n",
    "    در این پروژه داده هزار کاربر که از یک سایت بازدید کرده اند جمع آوری شده است. در این سایت یک آگهی تبلیغاتی وجود داشته و یکی از اطلاعاتی که در مورد این کاربران داریم این است که آیا یک کاربر بر روی این آگهی کلیک کرده است یا خیر. اما این رکورد برای بعضی کاربران وجود ندارد. حال میخواهیم با استفاده از تحلیل آماری پیش بینی کنیم که آیا کاربرانی که این رکورد از داده برای آنها موجود نیست بر روی تبلیغ کلیک کرده اند یا خیر. در این پروژه عمدتا از کتابخانه های numpy\n",
    "    و \n",
    "    pandas\n",
    "    استفاده شده است.\n",
    "</div>"
   ]
  },
  {
   "cell_type": "markdown",
   "metadata": {},
   "source": [
    "# PART 1"
   ]
  },
  {
   "cell_type": "code",
   "execution_count": 122,
   "metadata": {
    "scrolled": false
   },
   "outputs": [
    {
     "name": "stdout",
     "output_type": "stream",
     "text": [
      "\n",
      "head method\n",
      "===========================\n",
      "\n",
      "   Unnamed: 0  Daily Time Spent on Site   Age  Area Income  \\\n",
      "0           0                     68.95  35.0     61833.90   \n",
      "1           1                     80.23  31.0     68441.85   \n",
      "\n",
      "   Daily Internet Usage                       Ad Topic Line         City  \\\n",
      "0                256.09  Cloned 5thgeneration orchestration  Wrightburgh   \n",
      "1                   NaN  Monitored national standardization    West Jodi   \n",
      "\n",
      "   Gender  Country            Timestamp  Clicked on Ad  \n",
      "0  Female  Tunisia  2016-03-27 00:53:11            0.0  \n",
      "1    Male    Nauru  2016-04-04 01:39:02            0.0  \n",
      "\n",
      "tail method\n",
      "===========================\n",
      "\n",
      "     Unnamed: 0  Daily Time Spent on Site   Age  Area Income  \\\n",
      "999         999                       NaN  26.0      29875.8   \n",
      "\n",
      "     Daily Internet Usage                    Ad Topic Line         City  \\\n",
      "999                178.35  Virtual 5thgeneration emulation  Ronniemouth   \n",
      "\n",
      "     Gender Country            Timestamp  Clicked on Ad  \n",
      "999  Female  Brazil  2016-06-03 21:43:21            1.0  \n",
      "\n",
      "describe method\n",
      "===========================\n",
      "\n",
      "<bound method NDFrame.describe of      Unnamed: 0  Daily Time Spent on Site   Age  Area Income  \\\n",
      "0             0                     68.95  35.0     61833.90   \n",
      "1             1                     80.23  31.0     68441.85   \n",
      "2             2                     69.47  26.0     59785.94   \n",
      "3             3                     74.15  29.0     54806.18   \n",
      "4             4                     68.37  35.0     73889.99   \n",
      "..          ...                       ...   ...          ...   \n",
      "995         995                     72.97  30.0     71384.57   \n",
      "996         996                     51.30  45.0     67782.17   \n",
      "997         997                     51.63  51.0     42415.72   \n",
      "998         998                     55.55  19.0     41920.79   \n",
      "999         999                       NaN  26.0     29875.80   \n",
      "\n",
      "     Daily Internet Usage                          Ad Topic Line  \\\n",
      "0                  256.09     Cloned 5thgeneration orchestration   \n",
      "1                     NaN     Monitored national standardization   \n",
      "2                  236.50       Organic bottom-line service-desk   \n",
      "3                  245.89  Triple-buffered reciprocal time-frame   \n",
      "4                  225.58          Robust logistical utilization   \n",
      "..                    ...                                    ...   \n",
      "995                208.58          Fundamental modular algorithm   \n",
      "996                134.42        Grass-roots cohesive monitoring   \n",
      "997                120.37           Expanded intangible solution   \n",
      "998                187.95   Proactive bandwidth-monitored policy   \n",
      "999                178.35        Virtual 5thgeneration emulation   \n",
      "\n",
      "               City  Gender                 Country            Timestamp  \\\n",
      "0       Wrightburgh  Female                 Tunisia  2016-03-27 00:53:11   \n",
      "1         West Jodi    Male                   Nauru  2016-04-04 01:39:02   \n",
      "2          Davidton  Female              San Marino  2016-03-13 20:35:42   \n",
      "3    West Terrifurt    Male                   Italy  2016-01-10 02:31:19   \n",
      "4      South Manuel  Female                 Iceland  2016-06-03 03:36:18   \n",
      "..              ...     ...                     ...                  ...   \n",
      "995       Duffystad    Male                 Lebanon  2016-02-11 21:49:00   \n",
      "996     New Darlene    Male  Bosnia and Herzegovina  2016-04-22 02:07:01   \n",
      "997   South Jessica    Male                Mongolia  2016-02-01 17:24:57   \n",
      "998     West Steven  Female               Guatemala  2016-03-24 02:35:54   \n",
      "999     Ronniemouth  Female                  Brazil  2016-06-03 21:43:21   \n",
      "\n",
      "     Clicked on Ad  \n",
      "0              0.0  \n",
      "1              0.0  \n",
      "2              0.0  \n",
      "3              0.0  \n",
      "4              0.0  \n",
      "..             ...  \n",
      "995            1.0  \n",
      "996            1.0  \n",
      "997            1.0  \n",
      "998            0.0  \n",
      "999            1.0  \n",
      "\n",
      "[1000 rows x 11 columns]>\n"
     ]
    }
   ],
   "source": [
    "import pandas\n",
    "\n",
    "file_content = pandas.read_csv(\"advertising_dataset.csv\")\n",
    "print(\"\\nhead method\\n===========================\\n\")\n",
    "print(file_content.head(2))\n",
    "print(\"\\ntail method\\n===========================\\n\")\n",
    "print(file_content.tail(1))\n",
    "print(\"\\ndescribe method\\n===========================\\n\")\n",
    "print(file_content.describe)"
   ]
  },
  {
   "cell_type": "markdown",
   "metadata": {},
   "source": [
    "<br><p style=\"color:red;font-size:18px;\">\n",
    "Description:</p>\n",
    "\n",
    "<div style=\"font-size:16px;\">\n",
    "&ensp;head(n): Returns the first n rows of the caller object.<br>\n",
    "&ensp;tail(n): Returns the last n rows of the caller object.<br>\n",
    "&ensp;describe(): Summary statistics of the Dataframe provided.<br>\n",
    "</div>"
   ]
  },
  {
   "cell_type": "markdown",
   "metadata": {},
   "source": [
    "# PART 2"
   ]
  },
  {
   "cell_type": "code",
   "execution_count": 123,
   "metadata": {},
   "outputs": [
    {
     "name": "stdout",
     "output_type": "stream",
     "text": [
      "<class 'pandas.core.frame.DataFrame'>\n",
      "RangeIndex: 1000 entries, 0 to 999\n",
      "Data columns (total 11 columns):\n",
      " #   Column                    Non-Null Count  Dtype  \n",
      "---  ------                    --------------  -----  \n",
      " 0   Unnamed: 0                1000 non-null   int64  \n",
      " 1   Daily Time Spent on Site  907 non-null    float64\n",
      " 2   Age                       979 non-null    float64\n",
      " 3   Area Income               1000 non-null   float64\n",
      " 4   Daily Internet Usage      913 non-null    float64\n",
      " 5   Ad Topic Line             1000 non-null   object \n",
      " 6   City                      1000 non-null   object \n",
      " 7   Gender                    1000 non-null   object \n",
      " 8   Country                   1000 non-null   object \n",
      " 9   Timestamp                 1000 non-null   object \n",
      " 10  Clicked on Ad             832 non-null    float64\n",
      "dtypes: float64(5), int64(1), object(5)\n",
      "memory usage: 86.1+ KB\n",
      "None\n"
     ]
    }
   ],
   "source": [
    "import pandas\n",
    "\n",
    "file_content = pandas.read_csv(\"advertising_dataset.csv\")\n",
    "print(file_content.info())"
   ]
  },
  {
   "cell_type": "markdown",
   "metadata": {},
   "source": [
    "<br><div dir=\"rtl\" style=\"color:red;font-size:18px;\">\n",
    "نوع داده هر ستون مشخص است\n",
    "    <br>\n",
    "    حال به جای\n",
    "Female\n",
    "عدد صفر و به جای \n",
    "Male\n",
    "عدد یک را جایگذاری میکنیم.\n",
    "این کار را \n",
    "implace\n",
    "انجام میدهیم تا در همان دیتافریمی که از فایل ساخته شده تغییرات اعمال شود.</div>"
   ]
  },
  {
   "cell_type": "code",
   "execution_count": 124,
   "metadata": {
    "scrolled": false
   },
   "outputs": [
    {
     "name": "stdout",
     "output_type": "stream",
     "text": [
      "   Unnamed: 0  Daily Time Spent on Site   Age  Area Income  \\\n",
      "0           0                     68.95  35.0     61833.90   \n",
      "1           1                     80.23  31.0     68441.85   \n",
      "2           2                     69.47  26.0     59785.94   \n",
      "3           3                     74.15  29.0     54806.18   \n",
      "\n",
      "   Daily Internet Usage                          Ad Topic Line  \\\n",
      "0                256.09     Cloned 5thgeneration orchestration   \n",
      "1                   NaN     Monitored national standardization   \n",
      "2                236.50       Organic bottom-line service-desk   \n",
      "3                245.89  Triple-buffered reciprocal time-frame   \n",
      "\n",
      "             City  Gender     Country            Timestamp  Clicked on Ad  \n",
      "0     Wrightburgh       0     Tunisia  2016-03-27 00:53:11            0.0  \n",
      "1       West Jodi       1       Nauru  2016-04-04 01:39:02            0.0  \n",
      "2        Davidton       0  San Marino  2016-03-13 20:35:42            0.0  \n",
      "3  West Terrifurt       1       Italy  2016-01-10 02:31:19            0.0  \n"
     ]
    }
   ],
   "source": [
    "import pandas\n",
    "\n",
    "file_content = pandas.read_csv(\"advertising_dataset.csv\")\n",
    "file_content['Gender'].replace('Male', 1, inplace=True)\n",
    "file_content['Gender'].replace('Female', 0, inplace=True)\n",
    "print(file_content.head(4))\n"
   ]
  },
  {
   "cell_type": "markdown",
   "metadata": {},
   "source": [
    "<br><div dir=\"rtl\" style=\"color:red;font-size:18px;\">\n",
    "همانطور که مشاهده میشود وقتی چهار داده اول را چاپ میکنیم مقدار مورد نظر ما تغییر کرده است.</div>"
   ]
  },
  {
   "cell_type": "markdown",
   "metadata": {},
   "source": [
    "# PART 3"
   ]
  },
  {
   "cell_type": "markdown",
   "metadata": {},
   "source": [
    "<br><div dir=\"rtl\" style=\"color:red;font-size:18px;\">\n",
    "تعداد داده هایی که موجود نیستند به شکل زیر است.</div>"
   ]
  },
  {
   "cell_type": "code",
   "execution_count": 125,
   "metadata": {
    "scrolled": true
   },
   "outputs": [
    {
     "name": "stdout",
     "output_type": "stream",
     "text": [
      "Number of NaN Unnamed: 0 : 0\n",
      "Number of NaN Daily Time Spent on Site : 93\n",
      "Number of NaN Age : 21\n",
      "Number of NaN Area Income : 0\n",
      "Number of NaN Daily Internet Usage : 87\n",
      "Number of NaN Ad Topic Line : 0\n",
      "Number of NaN City : 0\n",
      "Number of NaN Gender : 0\n",
      "Number of NaN Country : 0\n",
      "Number of NaN Timestamp : 0\n",
      "Number of NaN Clicked on Ad : 168\n"
     ]
    }
   ],
   "source": [
    "import pandas\n",
    "\n",
    "file_content = pandas.read_csv(\"advertising_dataset.csv\")\n",
    "for i in file_content.columns:\n",
    "    print(\"Number of NaN\", i, \":\", file_content[i].isna().sum())\n"
   ]
  },
  {
   "cell_type": "markdown",
   "metadata": {},
   "source": [
    "<br><div dir=\"rtl\" style=\"color:red;font-size:18px;\">\n",
    "قطعه کد زیر مقادیری را که موجود نیستند با میانگین جایگذاری میکند.</div>"
   ]
  },
  {
   "cell_type": "code",
   "execution_count": 126,
   "metadata": {},
   "outputs": [
    {
     "data": {
      "text/html": [
       "<div>\n",
       "<style scoped>\n",
       "    .dataframe tbody tr th:only-of-type {\n",
       "        vertical-align: middle;\n",
       "    }\n",
       "\n",
       "    .dataframe tbody tr th {\n",
       "        vertical-align: top;\n",
       "    }\n",
       "\n",
       "    .dataframe thead th {\n",
       "        text-align: right;\n",
       "    }\n",
       "</style>\n",
       "<table border=\"1\" class=\"dataframe\">\n",
       "  <thead>\n",
       "    <tr style=\"text-align: right;\">\n",
       "      <th></th>\n",
       "      <th>Unnamed: 0</th>\n",
       "      <th>Daily Time Spent on Site</th>\n",
       "      <th>Age</th>\n",
       "      <th>Area Income</th>\n",
       "      <th>Daily Internet Usage</th>\n",
       "      <th>Ad Topic Line</th>\n",
       "      <th>City</th>\n",
       "      <th>Gender</th>\n",
       "      <th>Country</th>\n",
       "      <th>Timestamp</th>\n",
       "      <th>Clicked on Ad</th>\n",
       "    </tr>\n",
       "  </thead>\n",
       "  <tbody>\n",
       "    <tr>\n",
       "      <th>0</th>\n",
       "      <td>0</td>\n",
       "      <td>68.950000</td>\n",
       "      <td>35.0</td>\n",
       "      <td>61833.90</td>\n",
       "      <td>256.090000</td>\n",
       "      <td>Cloned 5thgeneration orchestration</td>\n",
       "      <td>Wrightburgh</td>\n",
       "      <td>Female</td>\n",
       "      <td>Tunisia</td>\n",
       "      <td>2016-03-27 00:53:11</td>\n",
       "      <td>0.0</td>\n",
       "    </tr>\n",
       "    <tr>\n",
       "      <th>1</th>\n",
       "      <td>1</td>\n",
       "      <td>80.230000</td>\n",
       "      <td>31.0</td>\n",
       "      <td>68441.85</td>\n",
       "      <td>179.751271</td>\n",
       "      <td>Monitored national standardization</td>\n",
       "      <td>West Jodi</td>\n",
       "      <td>Male</td>\n",
       "      <td>Nauru</td>\n",
       "      <td>2016-04-04 01:39:02</td>\n",
       "      <td>0.0</td>\n",
       "    </tr>\n",
       "    <tr>\n",
       "      <th>2</th>\n",
       "      <td>2</td>\n",
       "      <td>69.470000</td>\n",
       "      <td>26.0</td>\n",
       "      <td>59785.94</td>\n",
       "      <td>236.500000</td>\n",
       "      <td>Organic bottom-line service-desk</td>\n",
       "      <td>Davidton</td>\n",
       "      <td>Female</td>\n",
       "      <td>San Marino</td>\n",
       "      <td>2016-03-13 20:35:42</td>\n",
       "      <td>0.0</td>\n",
       "    </tr>\n",
       "    <tr>\n",
       "      <th>3</th>\n",
       "      <td>3</td>\n",
       "      <td>74.150000</td>\n",
       "      <td>29.0</td>\n",
       "      <td>54806.18</td>\n",
       "      <td>245.890000</td>\n",
       "      <td>Triple-buffered reciprocal time-frame</td>\n",
       "      <td>West Terrifurt</td>\n",
       "      <td>Male</td>\n",
       "      <td>Italy</td>\n",
       "      <td>2016-01-10 02:31:19</td>\n",
       "      <td>0.0</td>\n",
       "    </tr>\n",
       "    <tr>\n",
       "      <th>4</th>\n",
       "      <td>4</td>\n",
       "      <td>68.370000</td>\n",
       "      <td>35.0</td>\n",
       "      <td>73889.99</td>\n",
       "      <td>225.580000</td>\n",
       "      <td>Robust logistical utilization</td>\n",
       "      <td>South Manuel</td>\n",
       "      <td>Female</td>\n",
       "      <td>Iceland</td>\n",
       "      <td>2016-06-03 03:36:18</td>\n",
       "      <td>0.0</td>\n",
       "    </tr>\n",
       "    <tr>\n",
       "      <th>...</th>\n",
       "      <td>...</td>\n",
       "      <td>...</td>\n",
       "      <td>...</td>\n",
       "      <td>...</td>\n",
       "      <td>...</td>\n",
       "      <td>...</td>\n",
       "      <td>...</td>\n",
       "      <td>...</td>\n",
       "      <td>...</td>\n",
       "      <td>...</td>\n",
       "      <td>...</td>\n",
       "    </tr>\n",
       "    <tr>\n",
       "      <th>995</th>\n",
       "      <td>995</td>\n",
       "      <td>72.970000</td>\n",
       "      <td>30.0</td>\n",
       "      <td>71384.57</td>\n",
       "      <td>208.580000</td>\n",
       "      <td>Fundamental modular algorithm</td>\n",
       "      <td>Duffystad</td>\n",
       "      <td>Male</td>\n",
       "      <td>Lebanon</td>\n",
       "      <td>2016-02-11 21:49:00</td>\n",
       "      <td>1.0</td>\n",
       "    </tr>\n",
       "    <tr>\n",
       "      <th>996</th>\n",
       "      <td>996</td>\n",
       "      <td>51.300000</td>\n",
       "      <td>45.0</td>\n",
       "      <td>67782.17</td>\n",
       "      <td>134.420000</td>\n",
       "      <td>Grass-roots cohesive monitoring</td>\n",
       "      <td>New Darlene</td>\n",
       "      <td>Male</td>\n",
       "      <td>Bosnia and Herzegovina</td>\n",
       "      <td>2016-04-22 02:07:01</td>\n",
       "      <td>1.0</td>\n",
       "    </tr>\n",
       "    <tr>\n",
       "      <th>997</th>\n",
       "      <td>997</td>\n",
       "      <td>51.630000</td>\n",
       "      <td>51.0</td>\n",
       "      <td>42415.72</td>\n",
       "      <td>120.370000</td>\n",
       "      <td>Expanded intangible solution</td>\n",
       "      <td>South Jessica</td>\n",
       "      <td>Male</td>\n",
       "      <td>Mongolia</td>\n",
       "      <td>2016-02-01 17:24:57</td>\n",
       "      <td>1.0</td>\n",
       "    </tr>\n",
       "    <tr>\n",
       "      <th>998</th>\n",
       "      <td>998</td>\n",
       "      <td>55.550000</td>\n",
       "      <td>19.0</td>\n",
       "      <td>41920.79</td>\n",
       "      <td>187.950000</td>\n",
       "      <td>Proactive bandwidth-monitored policy</td>\n",
       "      <td>West Steven</td>\n",
       "      <td>Female</td>\n",
       "      <td>Guatemala</td>\n",
       "      <td>2016-03-24 02:35:54</td>\n",
       "      <td>0.0</td>\n",
       "    </tr>\n",
       "    <tr>\n",
       "      <th>999</th>\n",
       "      <td>999</td>\n",
       "      <td>64.794818</td>\n",
       "      <td>26.0</td>\n",
       "      <td>29875.80</td>\n",
       "      <td>178.350000</td>\n",
       "      <td>Virtual 5thgeneration emulation</td>\n",
       "      <td>Ronniemouth</td>\n",
       "      <td>Female</td>\n",
       "      <td>Brazil</td>\n",
       "      <td>2016-06-03 21:43:21</td>\n",
       "      <td>1.0</td>\n",
       "    </tr>\n",
       "  </tbody>\n",
       "</table>\n",
       "<p>1000 rows × 11 columns</p>\n",
       "</div>"
      ],
      "text/plain": [
       "     Unnamed: 0  Daily Time Spent on Site   Age  Area Income  \\\n",
       "0             0                 68.950000  35.0     61833.90   \n",
       "1             1                 80.230000  31.0     68441.85   \n",
       "2             2                 69.470000  26.0     59785.94   \n",
       "3             3                 74.150000  29.0     54806.18   \n",
       "4             4                 68.370000  35.0     73889.99   \n",
       "..          ...                       ...   ...          ...   \n",
       "995         995                 72.970000  30.0     71384.57   \n",
       "996         996                 51.300000  45.0     67782.17   \n",
       "997         997                 51.630000  51.0     42415.72   \n",
       "998         998                 55.550000  19.0     41920.79   \n",
       "999         999                 64.794818  26.0     29875.80   \n",
       "\n",
       "     Daily Internet Usage                          Ad Topic Line  \\\n",
       "0              256.090000     Cloned 5thgeneration orchestration   \n",
       "1              179.751271     Monitored national standardization   \n",
       "2              236.500000       Organic bottom-line service-desk   \n",
       "3              245.890000  Triple-buffered reciprocal time-frame   \n",
       "4              225.580000          Robust logistical utilization   \n",
       "..                    ...                                    ...   \n",
       "995            208.580000          Fundamental modular algorithm   \n",
       "996            134.420000        Grass-roots cohesive monitoring   \n",
       "997            120.370000           Expanded intangible solution   \n",
       "998            187.950000   Proactive bandwidth-monitored policy   \n",
       "999            178.350000        Virtual 5thgeneration emulation   \n",
       "\n",
       "               City  Gender                 Country            Timestamp  \\\n",
       "0       Wrightburgh  Female                 Tunisia  2016-03-27 00:53:11   \n",
       "1         West Jodi    Male                   Nauru  2016-04-04 01:39:02   \n",
       "2          Davidton  Female              San Marino  2016-03-13 20:35:42   \n",
       "3    West Terrifurt    Male                   Italy  2016-01-10 02:31:19   \n",
       "4      South Manuel  Female                 Iceland  2016-06-03 03:36:18   \n",
       "..              ...     ...                     ...                  ...   \n",
       "995       Duffystad    Male                 Lebanon  2016-02-11 21:49:00   \n",
       "996     New Darlene    Male  Bosnia and Herzegovina  2016-04-22 02:07:01   \n",
       "997   South Jessica    Male                Mongolia  2016-02-01 17:24:57   \n",
       "998     West Steven  Female               Guatemala  2016-03-24 02:35:54   \n",
       "999     Ronniemouth  Female                  Brazil  2016-06-03 21:43:21   \n",
       "\n",
       "     Clicked on Ad  \n",
       "0              0.0  \n",
       "1              0.0  \n",
       "2              0.0  \n",
       "3              0.0  \n",
       "4              0.0  \n",
       "..             ...  \n",
       "995            1.0  \n",
       "996            1.0  \n",
       "997            1.0  \n",
       "998            0.0  \n",
       "999            1.0  \n",
       "\n",
       "[1000 rows x 11 columns]"
      ]
     },
     "execution_count": 126,
     "metadata": {},
     "output_type": "execute_result"
    }
   ],
   "source": [
    "import pandas\n",
    "file_content = pandas.read_csv(\"advertising_dataset.csv\")\n",
    "for i in file_content.columns[1:5]:\n",
    "    file_content[i].fillna(file_content[i].mean(), inplace=True)\n",
    "file_content"
   ]
  },
  {
   "cell_type": "markdown",
   "metadata": {},
   "source": [
    "<br><div dir=\"rtl\" style=\"color:red;font-size:18px;\">\n",
    "روش دیگری که به ذهن بنده میرسد در نظر نگرفتن خانه های \n",
    "    NaN\n",
    "هنگام محاسبه یک ویژگی است. در روش قبلی به عنوان مثال اگر بیست درصد داده ها موجود نباشند جایگزین کردن آن ها با میانگین ممکن است باعث تغییرات چشمگیری شود.\n",
    "    <br>\n",
    "    اگر جایگزین کردن حتما باید انجام شود میتوان از میانه که معیار بهتری است استفاده کرد. زیرا داده های پرت کمتر روی آن تاثیرگذار هستند.\n",
    "</div>"
   ]
  },
  {
   "cell_type": "markdown",
   "metadata": {},
   "source": [
    "# PART 4"
   ]
  },
  {
   "cell_type": "code",
   "execution_count": 127,
   "metadata": {},
   "outputs": [
    {
     "name": "stdout",
     "output_type": "stream",
     "text": [
      "Number of male people: 481\n",
      "Number of female people: 519\n",
      "People who clicked on ad: 413\n",
      "People who did not click on ad: 419\n"
     ]
    }
   ],
   "source": [
    "import pandas\n",
    "\n",
    "file_content = pandas.read_csv(\"advertising_dataset.csv\")\n",
    "file_content['Gender'].replace('Male', 1, inplace=True)\n",
    "file_content['Gender'].replace('Female', 0, inplace=True)\n",
    "\n",
    "\n",
    "print(\"Number of male people:\", len(file_content[file_content['Gender'] == 1]))\n",
    "print(\"Number of female people:\", len(file_content[file_content['Gender'] == 0]))\n",
    "print(\"People who clicked on ad:\", len(file_content[file_content['Clicked on Ad'] == 1]))\n",
    "print(\"People who did not click on ad:\", len(file_content[file_content['Clicked on Ad'] == 0]))"
   ]
  },
  {
   "cell_type": "markdown",
   "metadata": {},
   "source": [
    "# PART 5"
   ]
  },
  {
   "cell_type": "code",
   "execution_count": 128,
   "metadata": {},
   "outputs": [
    {
     "name": "stdout",
     "output_type": "stream",
     "text": [
      "My gender, older: 472\n"
     ]
    }
   ],
   "source": [
    "import pandas\n",
    "import numpy\n",
    "\n",
    "file_content = pandas.read_csv(\"advertising_dataset.csv\")\n",
    "file_content['Gender'].replace('Male', 1, inplace=True)\n",
    "file_content['Gender'].replace('Female', 0, inplace=True)\n",
    "for i in file_content.columns[1:5]:\n",
    "    file_content[i].fillna(file_content[i].mean(), inplace=True)\n",
    "\n",
    "my_gender = 1\n",
    "my_age = 20\n",
    "print(\"My gender, older:\", len(file_content[numpy.logical_and(file_content['Age'] > my_age, file_content['Gender'] == my_gender)]))"
   ]
  },
  {
   "cell_type": "markdown",
   "metadata": {},
   "source": [
    "<br><div dir=\"rtl\" style=\"color:red;font-size:18px;\">\n",
    "توجه کنید در قطعه کد بالا به جای داده هایی که موجود نبودند میانگین آن داده ها قرار داده شده است\n",
    "</div>"
   ]
  },
  {
   "cell_type": "markdown",
   "metadata": {},
   "source": [
    "# PART 6"
   ]
  },
  {
   "cell_type": "code",
   "execution_count": 129,
   "metadata": {},
   "outputs": [
    {
     "name": "stdout",
     "output_type": "stream",
     "text": [
      "Average age of people who clicked on the ad (took 1.084566 ms): 40.295599848637366\n",
      "Average age of people who did not click on the ad (took 1.496077 ms): 31.723325881701896\n"
     ]
    }
   ],
   "source": [
    "import pandas\n",
    "import time\n",
    "\n",
    "file_content = pandas.read_csv(\"advertising_dataset.csv\")\n",
    "for i in file_content.columns[1:5]:\n",
    "    file_content[i].fillna(file_content[i].mean(), inplace=True)\n",
    "\n",
    "tic = time.time()\n",
    "click = file_content.groupby('Clicked on Ad')['Age'].mean()[1]\n",
    "toc = time.time()\n",
    "print(\"Average age of people who clicked on the ad (took %f ms):\" % ((toc - tic) * 1000), click)\n",
    "\n",
    "tic = time.time()\n",
    "no_click = file_content.groupby('Clicked on Ad')['Age'].mean()[0]\n",
    "toc = time.time()\n",
    "print(\"Average age of people who did not click on the ad (took %f ms):\" % ((toc - tic) * 1000), no_click)"
   ]
  },
  {
   "cell_type": "markdown",
   "metadata": {},
   "source": [
    "<br><div dir=\"rtl\" style=\"color:red;font-size:18px;\">\n",
    "    زمان محاسبه این مقدار داخل پرانتز نوشته شده است\n",
    "    <br>\n",
    "توجه کنید در قطعه کد بالا به جای داده هایی که موجود نبودند میانگین آن داده ها قرار داده شده است\n",
    "</div>"
   ]
  },
  {
   "cell_type": "markdown",
   "metadata": {},
   "source": [
    "# PART 7"
   ]
  },
  {
   "cell_type": "code",
   "execution_count": 130,
   "metadata": {},
   "outputs": [
    {
     "name": "stdout",
     "output_type": "stream",
     "text": [
      "Average age of people who did not click on the ad (took 9.881020 ms): 31.723325881701896\n",
      "Average age of people who clicked on the ad (took 10.023832 ms): 40.295599848637366\n"
     ]
    }
   ],
   "source": [
    "import pandas\n",
    "import time\n",
    "\n",
    "file_content = pandas.read_csv(\"advertising_dataset.csv\")\n",
    "for i in file_content.columns[1:5]:\n",
    "    file_content[i].fillna(file_content[i].mean(), inplace=True)\n",
    "tic = time.time()\n",
    "click = 0\n",
    "no_click = 0\n",
    "num_of_click = 0;\n",
    "num_of_no_click = 0;\n",
    "for i in range(1000):\n",
    "    if file_content['Clicked on Ad'][i] == 0:\n",
    "        no_click += file_content['Age'][i]\n",
    "        num_of_no_click += 1\n",
    "toc = time.time()\n",
    "print(\"Average age of people who did not click on the ad (took %f ms):\" % ((toc - tic) * 1000), no_click / num_of_no_click)\n",
    "\n",
    "tic = time.time()\n",
    "for i in range(1000):\n",
    "    if file_content['Clicked on Ad'][i] == 1:\n",
    "        click += file_content['Age'][i]\n",
    "        num_of_click += 1\n",
    "toc = time.time()\n",
    "print(\"Average age of people who clicked on the ad (took %f ms):\" % ((toc - tic) * 1000), click / num_of_click)"
   ]
  },
  {
   "cell_type": "markdown",
   "metadata": {},
   "source": [
    "<br><div dir=\"rtl\" style=\"color:red;font-size:18px;\">\n",
    "    زمان محاسبه این مقدار داخل پرانتز نوشته شده است.\n",
    "    <br>\n",
    "در این حالت چندین برابر بیشتر طول میکشد تا نتیجه محاسبه شود.\n",
    "</div>"
   ]
  },
  {
   "cell_type": "markdown",
   "metadata": {},
   "source": [
    "# PART 8"
   ]
  },
  {
   "cell_type": "code",
   "execution_count": 131,
   "metadata": {},
   "outputs": [
    {
     "data": {
      "text/plain": [
       "Text(0, 0.5, 'Number of people')"
      ]
     },
     "execution_count": 131,
     "metadata": {},
     "output_type": "execute_result"
    },
    {
     "data": {
      "image/png": "[encoded data removed]",
      "text/plain": [
       "<Figure size 432x288 with 1 Axes>"
      ]
     },
     "metadata": {
      "needs_background": "light"
     },
     "output_type": "display_data"
    }
   ],
   "source": [
    "import pandas\n",
    "import matplotlib.pyplot as plt\n",
    "\n",
    "file_content = pandas.read_csv(\"advertising_dataset.csv\")\n",
    "for i in file_content.columns[1:5]:\n",
    "    file_content[i].fillna(file_content[i].mean(), inplace=True)\n",
    "    \n",
    "ax = file_content['Daily Time Spent on Site'].hist()\n",
    "plt.suptitle(\"Daily Time Spent on Site\")\n",
    "ax.set_xlabel(\"Time (minute)\")\n",
    "ax.set_ylabel(\"Number of people\")"
   ]
  },
  {
   "cell_type": "code",
   "execution_count": 132,
   "metadata": {},
   "outputs": [
    {
     "data": {
      "text/plain": [
       "Text(0, 0.5, 'Number of people')"
      ]
     },
     "execution_count": 132,
     "metadata": {},
     "output_type": "execute_result"
    },
    {
     "data": {
      "image/png": "[encoded data removed]",
      "text/plain": [
       "<Figure size 432x288 with 1 Axes>"
      ]
     },
     "metadata": {
      "needs_background": "light"
     },
     "output_type": "display_data"
    }
   ],
   "source": [
    "import pandas\n",
    "import matplotlib.pyplot as plt\n",
    "\n",
    "file_content = pandas.read_csv(\"advertising_dataset.csv\")\n",
    "for i in file_content.columns[1:5]:\n",
    "    file_content[i].fillna(file_content[i].mean(), inplace=True)\n",
    "    \n",
    "ax = file_content['Age'].hist()\n",
    "plt.suptitle(\"Age\")\n",
    "ax.set_xlabel(\"Age (year)\")\n",
    "ax.set_ylabel(\"Number of people\")"
   ]
  },
  {
   "cell_type": "code",
   "execution_count": 133,
   "metadata": {},
   "outputs": [
    {
     "data": {
      "text/plain": [
       "Text(0, 0.5, 'Number of people')"
      ]
     },
     "execution_count": 133,
     "metadata": {},
     "output_type": "execute_result"
    },
    {
     "data": {
      "image/png": "[encoded data removed]",
      "text/plain": [
       "<Figure size 432x288 with 1 Axes>"
      ]
     },
     "metadata": {
      "needs_background": "light"
     },
     "output_type": "display_data"
    }
   ],
   "source": [
    "import pandas\n",
    "import matplotlib.pyplot as plt\n",
    "\n",
    "file_content = pandas.read_csv(\"advertising_dataset.csv\")\n",
    "for i in file_content.columns[1:5]:\n",
    "    file_content[i].fillna(file_content[i].mean(), inplace=True)\n",
    "    \n",
    "ax = file_content['Area Income'].hist()\n",
    "plt.suptitle(\"Area Income\")\n",
    "ax.set_xlabel(\"Area Income ($)\")\n",
    "ax.set_ylabel(\"Number of people\")"
   ]
  },
  {
   "cell_type": "code",
   "execution_count": 134,
   "metadata": {},
   "outputs": [
    {
     "data": {
      "text/plain": [
       "Text(0, 0.5, 'Number of people')"
      ]
     },
     "execution_count": 134,
     "metadata": {},
     "output_type": "execute_result"
    },
    {
     "data": {
      "image/png": "[encoded data removed]",
      "text/plain": [
       "<Figure size 432x288 with 1 Axes>"
      ]
     },
     "metadata": {
      "needs_background": "light"
     },
     "output_type": "display_data"
    }
   ],
   "source": [
    "import pandas\n",
    "import matplotlib.pyplot as plt\n",
    "\n",
    "file_content = pandas.read_csv(\"advertising_dataset.csv\")\n",
    "for i in file_content.columns[1:5]:\n",
    "    file_content[i].fillna(file_content[i].mean(), inplace=True)\n",
    "    \n",
    "ax = file_content['Daily Internet Usage'].hist()\n",
    "plt.suptitle(\"Daily Internet Usage\")\n",
    "ax.set_xlabel(\"Daily Internet Usage (MB)\")\n",
    "ax.set_ylabel(\"Number of people\")"
   ]
  },
  {
   "cell_type": "code",
   "execution_count": 135,
   "metadata": {},
   "outputs": [
    {
     "data": {
      "text/plain": [
       "Text(0, 0.5, 'Number of people')"
      ]
     },
     "execution_count": 135,
     "metadata": {},
     "output_type": "execute_result"
    },
    {
     "data": {
      "image/png": "[encoded data removed]",
      "text/plain": [
       "<Figure size 432x288 with 1 Axes>"
      ]
     },
     "metadata": {
      "needs_background": "light"
     },
     "output_type": "display_data"
    }
   ],
   "source": [
    "import pandas\n",
    "import matplotlib.pyplot as plt\n",
    "\n",
    "file_content = pandas.read_csv(\"advertising_dataset.csv\")\n",
    "for i in file_content.columns[1:5]:\n",
    "    file_content[i].fillna(file_content[i].mean(), inplace=True)\n",
    "    \n",
    "ax = file_content['Clicked on Ad'].hist()\n",
    "plt.suptitle(\"Clicked on Ad\")\n",
    "ax.set_xlabel(\"Clicked on Ad (Yes / No)\")\n",
    "ax.set_ylabel(\"Number of people\")"
   ]
  },
  {
   "cell_type": "markdown",
   "metadata": {},
   "source": [
    "<br><div dir=\"rtl\" style=\"color:red;font-size:18px;\">\n",
    "توجه کنید در قطعه کد بالا به جای داده هایی که موجود نبودند میانگین آن داده ها قرار داده شده است\n",
    "    <br>\n",
    "    از کتابخانه \n",
    "    matplotlib.pyplot\n",
    "    جهت اضافه کردن \n",
    "    title \n",
    "    به نمودارها استفاده شده است\n",
    "</div>"
   ]
  },
  {
   "cell_type": "markdown",
   "metadata": {},
   "source": [
    "# PART 9"
   ]
  },
  {
   "cell_type": "code",
   "execution_count": 136,
   "metadata": {
    "scrolled": true
   },
   "outputs": [
    {
     "data": {
      "text/html": [
       "<div>\n",
       "<style scoped>\n",
       "    .dataframe tbody tr th:only-of-type {\n",
       "        vertical-align: middle;\n",
       "    }\n",
       "\n",
       "    .dataframe tbody tr th {\n",
       "        vertical-align: top;\n",
       "    }\n",
       "\n",
       "    .dataframe thead th {\n",
       "        text-align: right;\n",
       "    }\n",
       "</style>\n",
       "<table border=\"1\" class=\"dataframe\">\n",
       "  <thead>\n",
       "    <tr style=\"text-align: right;\">\n",
       "      <th></th>\n",
       "      <th>Daily Time Spent on Site</th>\n",
       "      <th>Age</th>\n",
       "      <th>Area Income</th>\n",
       "      <th>Daily Internet Usage</th>\n",
       "      <th>Clicked on Ad</th>\n",
       "    </tr>\n",
       "  </thead>\n",
       "  <tbody>\n",
       "    <tr>\n",
       "      <th>0</th>\n",
       "      <td>0.260434</td>\n",
       "      <td>-0.114895</td>\n",
       "      <td>0.509436</td>\n",
       "      <td>1.736631</td>\n",
       "      <td>0.0</td>\n",
       "    </tr>\n",
       "    <tr>\n",
       "      <th>1</th>\n",
       "      <td>0.967429</td>\n",
       "      <td>-0.570287</td>\n",
       "      <td>1.002029</td>\n",
       "      <td>NaN</td>\n",
       "      <td>0.0</td>\n",
       "    </tr>\n",
       "    <tr>\n",
       "      <th>2</th>\n",
       "      <td>0.293026</td>\n",
       "      <td>-1.139527</td>\n",
       "      <td>0.356770</td>\n",
       "      <td>1.290978</td>\n",
       "      <td>0.0</td>\n",
       "    </tr>\n",
       "    <tr>\n",
       "      <th>3</th>\n",
       "      <td>0.586354</td>\n",
       "      <td>-0.797983</td>\n",
       "      <td>-0.014448</td>\n",
       "      <td>1.504591</td>\n",
       "      <td>0.0</td>\n",
       "    </tr>\n",
       "    <tr>\n",
       "      <th>4</th>\n",
       "      <td>0.224081</td>\n",
       "      <td>-0.114895</td>\n",
       "      <td>1.408163</td>\n",
       "      <td>1.042559</td>\n",
       "      <td>0.0</td>\n",
       "    </tr>\n",
       "    <tr>\n",
       "      <th>...</th>\n",
       "      <td>...</td>\n",
       "      <td>...</td>\n",
       "      <td>...</td>\n",
       "      <td>...</td>\n",
       "      <td>...</td>\n",
       "    </tr>\n",
       "    <tr>\n",
       "      <th>995</th>\n",
       "      <td>0.512395</td>\n",
       "      <td>-0.684135</td>\n",
       "      <td>1.221395</td>\n",
       "      <td>0.655825</td>\n",
       "      <td>1.0</td>\n",
       "    </tr>\n",
       "    <tr>\n",
       "      <th>996</th>\n",
       "      <td>-0.845813</td>\n",
       "      <td>1.023586</td>\n",
       "      <td>0.952853</td>\n",
       "      <td>-1.031242</td>\n",
       "      <td>1.0</td>\n",
       "    </tr>\n",
       "    <tr>\n",
       "      <th>997</th>\n",
       "      <td>-0.825130</td>\n",
       "      <td>1.706674</td>\n",
       "      <td>-0.938101</td>\n",
       "      <td>-1.350866</td>\n",
       "      <td>1.0</td>\n",
       "    </tr>\n",
       "    <tr>\n",
       "      <th>998</th>\n",
       "      <td>-0.579437</td>\n",
       "      <td>-1.936464</td>\n",
       "      <td>-0.974996</td>\n",
       "      <td>0.186513</td>\n",
       "      <td>0.0</td>\n",
       "    </tr>\n",
       "    <tr>\n",
       "      <th>999</th>\n",
       "      <td>NaN</td>\n",
       "      <td>-1.139527</td>\n",
       "      <td>-1.872895</td>\n",
       "      <td>-0.031878</td>\n",
       "      <td>1.0</td>\n",
       "    </tr>\n",
       "  </tbody>\n",
       "</table>\n",
       "<p>1000 rows × 5 columns</p>\n",
       "</div>"
      ],
      "text/plain": [
       "     Daily Time Spent on Site       Age  Area Income  Daily Internet Usage  \\\n",
       "0                    0.260434 -0.114895     0.509436              1.736631   \n",
       "1                    0.967429 -0.570287     1.002029                   NaN   \n",
       "2                    0.293026 -1.139527     0.356770              1.290978   \n",
       "3                    0.586354 -0.797983    -0.014448              1.504591   \n",
       "4                    0.224081 -0.114895     1.408163              1.042559   \n",
       "..                        ...       ...          ...                   ...   \n",
       "995                  0.512395 -0.684135     1.221395              0.655825   \n",
       "996                 -0.845813  1.023586     0.952853             -1.031242   \n",
       "997                 -0.825130  1.706674    -0.938101             -1.350866   \n",
       "998                 -0.579437 -1.936464    -0.974996              0.186513   \n",
       "999                       NaN -1.139527    -1.872895             -0.031878   \n",
       "\n",
       "     Clicked on Ad  \n",
       "0              0.0  \n",
       "1              0.0  \n",
       "2              0.0  \n",
       "3              0.0  \n",
       "4              0.0  \n",
       "..             ...  \n",
       "995            1.0  \n",
       "996            1.0  \n",
       "997            1.0  \n",
       "998            0.0  \n",
       "999            1.0  \n",
       "\n",
       "[1000 rows x 5 columns]"
      ]
     },
     "execution_count": 136,
     "metadata": {},
     "output_type": "execute_result"
    }
   ],
   "source": [
    "import pandas\n",
    "\n",
    "file_content = pandas.read_csv(\"advertising_dataset.csv\")\n",
    "temp = file_content['Clicked on Ad']\n",
    "file_content.drop(columns = ['Unnamed: 0', 'Ad Topic Line', 'City', 'Gender', 'Country', 'Timestamp'], inplace=True)\n",
    "file_content = (file_content - file_content.mean()) / file_content.std()\n",
    "file_content['Clicked on Ad'] = temp\n",
    "file_content"
   ]
  },
  {
   "cell_type": "markdown",
   "metadata": {},
   "source": [
    "<br><div dir=\"rtl\" style=\"color:red;font-size:18px;\">\n",
    "در کد این قسمت برای مقادیر\n",
    "NaN\n",
    "جایگزینی در نظر نگرفته شده است و این مقادیر خالی میمانند.\n",
    "    <br>\n",
    "    اگر این مقادیر را خالی نگذاریم به جدول زیر خواهیم رسید:\n",
    "</div>"
   ]
  },
  {
   "cell_type": "code",
   "execution_count": 137,
   "metadata": {},
   "outputs": [
    {
     "data": {
      "text/html": [
       "<div>\n",
       "<style scoped>\n",
       "    .dataframe tbody tr th:only-of-type {\n",
       "        vertical-align: middle;\n",
       "    }\n",
       "\n",
       "    .dataframe tbody tr th {\n",
       "        vertical-align: top;\n",
       "    }\n",
       "\n",
       "    .dataframe thead th {\n",
       "        text-align: right;\n",
       "    }\n",
       "</style>\n",
       "<table border=\"1\" class=\"dataframe\">\n",
       "  <thead>\n",
       "    <tr style=\"text-align: right;\">\n",
       "      <th></th>\n",
       "      <th>Daily Time Spent on Site</th>\n",
       "      <th>Age</th>\n",
       "      <th>Area Income</th>\n",
       "      <th>Daily Internet Usage</th>\n",
       "      <th>Clicked on Ad</th>\n",
       "    </tr>\n",
       "  </thead>\n",
       "  <tbody>\n",
       "    <tr>\n",
       "      <th>0</th>\n",
       "      <td>2.734741e-01</td>\n",
       "      <td>-0.116122</td>\n",
       "      <td>0.509436</td>\n",
       "      <td>1.817578e+00</td>\n",
       "      <td>0.0</td>\n",
       "    </tr>\n",
       "    <tr>\n",
       "      <th>1</th>\n",
       "      <td>1.015870e+00</td>\n",
       "      <td>-0.576377</td>\n",
       "      <td>1.002029</td>\n",
       "      <td>-1.353406e-15</td>\n",
       "      <td>0.0</td>\n",
       "    </tr>\n",
       "    <tr>\n",
       "      <th>2</th>\n",
       "      <td>3.076980e-01</td>\n",
       "      <td>-1.151696</td>\n",
       "      <td>0.356770</td>\n",
       "      <td>1.351152e+00</td>\n",
       "      <td>0.0</td>\n",
       "    </tr>\n",
       "    <tr>\n",
       "      <th>3</th>\n",
       "      <td>6.157131e-01</td>\n",
       "      <td>-0.806505</td>\n",
       "      <td>-0.014448</td>\n",
       "      <td>1.574722e+00</td>\n",
       "      <td>0.0</td>\n",
       "    </tr>\n",
       "    <tr>\n",
       "      <th>4</th>\n",
       "      <td>2.353013e-01</td>\n",
       "      <td>-0.116122</td>\n",
       "      <td>1.408163</td>\n",
       "      <td>1.091154e+00</td>\n",
       "      <td>0.0</td>\n",
       "    </tr>\n",
       "    <tr>\n",
       "      <th>...</th>\n",
       "      <td>...</td>\n",
       "      <td>...</td>\n",
       "      <td>...</td>\n",
       "      <td>...</td>\n",
       "      <td>...</td>\n",
       "    </tr>\n",
       "    <tr>\n",
       "      <th>995</th>\n",
       "      <td>5.380512e-01</td>\n",
       "      <td>-0.691441</td>\n",
       "      <td>1.221395</td>\n",
       "      <td>6.863941e-01</td>\n",
       "      <td>1.0</td>\n",
       "    </tr>\n",
       "    <tr>\n",
       "      <th>996</th>\n",
       "      <td>-8.881641e-01</td>\n",
       "      <td>1.034517</td>\n",
       "      <td>0.952853</td>\n",
       "      <td>-1.079309e+00</td>\n",
       "      <td>1.0</td>\n",
       "    </tr>\n",
       "    <tr>\n",
       "      <th>997</th>\n",
       "      <td>-8.664451e-01</td>\n",
       "      <td>1.724900</td>\n",
       "      <td>-0.938101</td>\n",
       "      <td>-1.413831e+00</td>\n",
       "      <td>1.0</td>\n",
       "    </tr>\n",
       "    <tr>\n",
       "      <th>998</th>\n",
       "      <td>-6.084495e-01</td>\n",
       "      <td>-1.957144</td>\n",
       "      <td>-0.974996</td>\n",
       "      <td>1.952066e-01</td>\n",
       "      <td>0.0</td>\n",
       "    </tr>\n",
       "    <tr>\n",
       "      <th>999</th>\n",
       "      <td>-4.676451e-15</td>\n",
       "      <td>-1.151696</td>\n",
       "      <td>-1.872895</td>\n",
       "      <td>-3.336338e-02</td>\n",
       "      <td>1.0</td>\n",
       "    </tr>\n",
       "  </tbody>\n",
       "</table>\n",
       "<p>1000 rows × 5 columns</p>\n",
       "</div>"
      ],
      "text/plain": [
       "     Daily Time Spent on Site       Age  Area Income  Daily Internet Usage  \\\n",
       "0                2.734741e-01 -0.116122     0.509436          1.817578e+00   \n",
       "1                1.015870e+00 -0.576377     1.002029         -1.353406e-15   \n",
       "2                3.076980e-01 -1.151696     0.356770          1.351152e+00   \n",
       "3                6.157131e-01 -0.806505    -0.014448          1.574722e+00   \n",
       "4                2.353013e-01 -0.116122     1.408163          1.091154e+00   \n",
       "..                        ...       ...          ...                   ...   \n",
       "995              5.380512e-01 -0.691441     1.221395          6.863941e-01   \n",
       "996             -8.881641e-01  1.034517     0.952853         -1.079309e+00   \n",
       "997             -8.664451e-01  1.724900    -0.938101         -1.413831e+00   \n",
       "998             -6.084495e-01 -1.957144    -0.974996          1.952066e-01   \n",
       "999             -4.676451e-15 -1.151696    -1.872895         -3.336338e-02   \n",
       "\n",
       "     Clicked on Ad  \n",
       "0              0.0  \n",
       "1              0.0  \n",
       "2              0.0  \n",
       "3              0.0  \n",
       "4              0.0  \n",
       "..             ...  \n",
       "995            1.0  \n",
       "996            1.0  \n",
       "997            1.0  \n",
       "998            0.0  \n",
       "999            1.0  \n",
       "\n",
       "[1000 rows x 5 columns]"
      ]
     },
     "execution_count": 137,
     "metadata": {},
     "output_type": "execute_result"
    }
   ],
   "source": [
    "import pandas\n",
    "\n",
    "file_content = pandas.read_csv(\"advertising_dataset.csv\")\n",
    "for i in file_content.columns[1:5]:\n",
    "    file_content[i].fillna(file_content[i].mean(), inplace=True)\n",
    "temp = file_content['Clicked on Ad']\n",
    "file_content.drop(columns = ['Unnamed: 0', 'Ad Topic Line', 'City', 'Gender', 'Country', 'Timestamp'], inplace=True)\n",
    "file_content = (file_content - file_content.mean()) / file_content.std()\n",
    "file_content['Clicked on Ad'] = temp\n",
    "file_content"
   ]
  },
  {
   "cell_type": "markdown",
   "metadata": {},
   "source": [
    "# PART 10"
   ]
  },
  {
   "cell_type": "code",
   "execution_count": 138,
   "metadata": {},
   "outputs": [
    {
     "name": "stdout",
     "output_type": "stream",
     "text": [
      "Daily Time Spent on Site: (BLUE: clicked, ORANGE: Not clicked)\n"
     ]
    },
    {
     "data": {
      "text/plain": [
       "[<matplotlib.lines.Line2D at 0x7fc29f379a20>]"
      ]
     },
     "execution_count": 138,
     "metadata": {},
     "output_type": "execute_result"
    },
    {
     "data": {
      "image/png": "[encoded data removed]",
      "text/plain": [
       "<Figure size 432x288 with 1 Axes>"
      ]
     },
     "metadata": {
      "needs_background": "light"
     },
     "output_type": "display_data"
    }
   ],
   "source": [
    "import pandas\n",
    "import numpy\n",
    "import scipy.stats\n",
    "import matplotlib.pyplot as plt\n",
    "\n",
    "file_content = pandas.read_csv(\"advertising_dataset.csv\")\n",
    "# Replace NaNs\n",
    "for i in file_content.columns[1:5]:\n",
    "    file_content[i].fillna(file_content[i].mean(), inplace=True)\n",
    "# Normalize\n",
    "temp = file_content['Clicked on Ad']\n",
    "file_content.drop(columns = ['Unnamed: 0', 'Ad Topic Line', 'City', 'Gender', 'Country', 'Timestamp'], inplace=True)\n",
    "file_content = (file_content - file_content.mean()) / file_content.std()\n",
    "file_content['Clicked on Ad'] = temp\n",
    "\n",
    "\n",
    "mean_click = file_content.groupby('Clicked on Ad')['Daily Time Spent on Site'].mean()[1]\n",
    "mean_not_click = file_content.groupby('Clicked on Ad')['Daily Time Spent on Site'].mean()[0]\n",
    "std_click = file_content.groupby('Clicked on Ad')['Daily Time Spent on Site'].std()[1]\n",
    "std_not_click = file_content.groupby('Clicked on Ad')['Daily Time Spent on Site'].std()[0]\n",
    "\n",
    "norm_click = scipy.stats.norm(mean_click, std_click)\n",
    "norm_not_click = scipy.stats.norm(mean_not_click, std_not_click)\n",
    "x_axis = sorted(file_content['Daily Time Spent on Site'])\n",
    "\n",
    "print(\"Daily Time Spent on Site: (BLUE: clicked, ORANGE: Not clicked)\")\n",
    "plt.plot(x_axis, norm_click.pdf(x_axis))\n",
    "plt.plot(x_axis, norm_not_click.pdf(x_axis))"
   ]
  },
  {
   "cell_type": "code",
   "execution_count": 139,
   "metadata": {
    "scrolled": true
   },
   "outputs": [
    {
     "name": "stdout",
     "output_type": "stream",
     "text": [
      "Age: (BLUE: clicked, ORANGE: Not clicked)\n"
     ]
    },
    {
     "data": {
      "text/plain": [
       "[<matplotlib.lines.Line2D at 0x7fc29ddf9390>]"
      ]
     },
     "execution_count": 139,
     "metadata": {},
     "output_type": "execute_result"
    },
    {
     "data": {
      "image/png": "[encoded data removed]",
      "text/plain": [
       "<Figure size 432x288 with 1 Axes>"
      ]
     },
     "metadata": {
      "needs_background": "light"
     },
     "output_type": "display_data"
    }
   ],
   "source": [
    "import pandas\n",
    "import numpy\n",
    "import scipy.stats\n",
    "import matplotlib.pyplot as plt\n",
    "\n",
    "file_content = pandas.read_csv(\"advertising_dataset.csv\")\n",
    "# Replace NaNs\n",
    "for i in file_content.columns[1:5]:\n",
    "    file_content[i].fillna(file_content[i].mean(), inplace=True)\n",
    "# Normalize\n",
    "temp = file_content['Clicked on Ad']\n",
    "file_content.drop(columns = ['Unnamed: 0', 'Ad Topic Line', 'City', 'Gender', 'Country', 'Timestamp'], inplace=True)\n",
    "file_content = (file_content - file_content.mean()) / file_content.std()\n",
    "file_content['Clicked on Ad'] = temp\n",
    "\n",
    "\n",
    "mean_click = file_content.groupby('Clicked on Ad')['Age'].mean()[1]\n",
    "mean_not_click = file_content.groupby('Clicked on Ad')['Age'].mean()[0]\n",
    "std_click = file_content.groupby('Clicked on Ad')['Age'].std()[1]\n",
    "std_not_click = file_content.groupby('Clicked on Ad')['Age'].std()[0]\n",
    "\n",
    "norm_click = scipy.stats.norm(mean_click, std_click)\n",
    "norm_not_click = scipy.stats.norm(mean_not_click, std_not_click)\n",
    "x_axis = sorted(file_content['Age'])\n",
    "\n",
    "print(\"Age: (BLUE: clicked, ORANGE: Not clicked)\")\n",
    "plt.plot(x_axis, norm_click.pdf(x_axis))\n",
    "plt.plot(x_axis, norm_not_click.pdf(x_axis))"
   ]
  },
  {
   "cell_type": "code",
   "execution_count": 140,
   "metadata": {},
   "outputs": [
    {
     "name": "stdout",
     "output_type": "stream",
     "text": [
      "Area Income: (BLUE: clicked, ORANGE: Not clicked)\n"
     ]
    },
    {
     "data": {
      "text/plain": [
       "[<matplotlib.lines.Line2D at 0x7fc29dd68470>]"
      ]
     },
     "execution_count": 140,
     "metadata": {},
     "output_type": "execute_result"
    },
    {
     "data": {
      "image/png": "[encoded data removed]",
      "text/plain": [
       "<Figure size 432x288 with 1 Axes>"
      ]
     },
     "metadata": {
      "needs_background": "light"
     },
     "output_type": "display_data"
    }
   ],
   "source": [
    "import pandas\n",
    "import numpy\n",
    "import scipy.stats\n",
    "import matplotlib.pyplot as plt\n",
    "\n",
    "file_content = pandas.read_csv(\"advertising_dataset.csv\")\n",
    "# Replace NaNs\n",
    "for i in file_content.columns[1:5]:\n",
    "    file_content[i].fillna(file_content[i].mean(), inplace=True)\n",
    "# Normalize\n",
    "temp = file_content['Clicked on Ad']\n",
    "file_content.drop(columns = ['Unnamed: 0', 'Ad Topic Line', 'City', 'Gender', 'Country', 'Timestamp'], inplace=True)\n",
    "file_content = (file_content - file_content.mean()) / file_content.std()\n",
    "file_content['Clicked on Ad'] = temp\n",
    "\n",
    "\n",
    "mean_click = file_content.groupby('Clicked on Ad')['Area Income'].mean()[1]\n",
    "mean_not_click = file_content.groupby('Clicked on Ad')['Area Income'].mean()[0]\n",
    "std_click = file_content.groupby('Clicked on Ad')['Area Income'].std()[1]\n",
    "std_not_click = file_content.groupby('Clicked on Ad')['Area Income'].std()[0]\n",
    "\n",
    "norm_click = scipy.stats.norm(mean_click, std_click)\n",
    "norm_not_click = scipy.stats.norm(mean_not_click, std_not_click)\n",
    "x_axis = sorted(file_content['Area Income'])\n",
    "\n",
    "print(\"Area Income: (BLUE: clicked, ORANGE: Not clicked)\")\n",
    "plt.plot(x_axis, norm_click.pdf(x_axis))\n",
    "plt.plot(x_axis, norm_not_click.pdf(x_axis))"
   ]
  },
  {
   "cell_type": "code",
   "execution_count": 141,
   "metadata": {},
   "outputs": [
    {
     "name": "stdout",
     "output_type": "stream",
     "text": [
      "Daily Internet Usage: (BLUE: clicked, ORANGE: Not clicked)\n"
     ]
    },
    {
     "data": {
      "text/plain": [
       "[<matplotlib.lines.Line2D at 0x7fc29dd6bfd0>]"
      ]
     },
     "execution_count": 141,
     "metadata": {},
     "output_type": "execute_result"
    },
    {
     "data": {
      "image/png": "[encoded data removed]",
      "text/plain": [
       "<Figure size 432x288 with 1 Axes>"
      ]
     },
     "metadata": {
      "needs_background": "light"
     },
     "output_type": "display_data"
    }
   ],
   "source": [
    "import pandas\n",
    "import numpy\n",
    "import scipy.stats\n",
    "import matplotlib.pyplot as plt\n",
    "\n",
    "file_content = pandas.read_csv(\"advertising_dataset.csv\")\n",
    "# Replace NaNs\n",
    "for i in file_content.columns[1:5]:\n",
    "    file_content[i].fillna(file_content[i].mean(), inplace=True)\n",
    "# Normalize\n",
    "temp = file_content['Clicked on Ad']\n",
    "file_content.drop(columns = ['Unnamed: 0', 'Ad Topic Line', 'City', 'Gender', 'Country', 'Timestamp'], inplace=True)\n",
    "file_content = (file_content - file_content.mean()) / file_content.std()\n",
    "file_content['Clicked on Ad'] = temp\n",
    "\n",
    "\n",
    "mean_click = file_content.groupby('Clicked on Ad')['Daily Internet Usage'].mean()[1]\n",
    "mean_not_click = file_content.groupby('Clicked on Ad')['Daily Internet Usage'].mean()[0]\n",
    "std_click = file_content.groupby('Clicked on Ad')['Daily Internet Usage'].std()[1]\n",
    "std_not_click = file_content.groupby('Clicked on Ad')['Daily Internet Usage'].std()[0]\n",
    "\n",
    "norm_click = scipy.stats.norm(mean_click, std_click)\n",
    "norm_not_click = scipy.stats.norm(mean_not_click, std_not_click)\n",
    "x_axis = sorted(file_content['Daily Internet Usage'])\n",
    "\n",
    "print(\"Daily Internet Usage: (BLUE: clicked, ORANGE: Not clicked)\")\n",
    "plt.plot(x_axis, norm_click.pdf(x_axis))\n",
    "plt.plot(x_axis, norm_not_click.pdf(x_axis))\n"
   ]
  },
  {
   "cell_type": "markdown",
   "metadata": {},
   "source": [
    "<br><div dir=\"rtl\" style=\"color:red;font-size:18px;\">\n",
    "توجه کنید در تمامی نمودارهای بالا اگر داده ای موجود نبوده میانگین به جای آن استفاده شده است. (مانند قسمت سه)\n",
    "</div>\n",
    "<br><div dir=\"rtl\" style=\"color:black;font-size:18px;\">\n",
    "باتوجه به نمودارهای بالا ورودی ای مطلوب تر است که در دو حالت مختلف کلیک کرده و یا کلیک نکرده مساحت مشترک کمتری داشته باشند. زیرا هر چه مساحت کمتری بین آنها باشد نشان دهنده اختلاف بیشتر است. در اصل میتواند معیاری باشد که بر اساس آن مردم را به دو گروه کلیک کرده و کلیک نکرده تقسیم کرد به صورتی که این دو گروه در آن ویژگی خاص اختلاف دارند. پس میتوان بر اساس آن ویژگی تصمیم گرفت مردم کلیک کرده اند یا نکرده اند. بر این اساس میتوان ویژگی های دوم و سوم را حذف نمود. \n",
    "    <br>\n",
    "حال در شکل چهارم اختلاف محور عمودی نمودار آبی و نارنجی بیشتر است. (نسبت به شکل اول) باز هم این بدان معناست که اختلاف این ويژگی در دو گروه کلیک کرده و کلیک نکرده نمایان تر است. پس ویژگی چهارم یعنی مصرف اینترنت روزانه میتواند به عنوان معیار خوبی جهت تصمیم گیری استفاده شود.\n",
    "    یعنی مقادیر \n",
    "    Daily Internet Usage\n",
    "    را در دو تابع احتمال قرار دهیم. اگر احتمال کلیک کردن بیشتر بود مقدار هدف را برابر صفر و اگر احتمال کلیک نکردن بیشتر بود مقدار هدف را برابر یک قرار دهیم. \n",
    "<br>\n",
    "    البته توجه کنید سیاست های دیگری را نیز میتوانستیم در نظر بگیریم. به عنوان مثال به ویژگی اول و چهارم دو ضریب نسبت دهیم به صورتی که ضریب ویژگی اول بیشتر باشد. در این صورت میتوانستیم ویژگی اول را نیز در انتخابمان تاثیر دهیم که به نظر بنده این کار نیازمند بررسی بیشتری میبود. \n",
    "</div>"
   ]
  },
  {
   "cell_type": "markdown",
   "metadata": {},
   "source": [
    "# PART 11"
   ]
  },
  {
   "cell_type": "code",
   "execution_count": 143,
   "metadata": {},
   "outputs": [],
   "source": [
    "import pandas\n",
    "import numpy\n",
    "import scipy.stats\n",
    "import matplotlib.pyplot as plt\n",
    "pandas.options.mode.chained_assignment = None\n",
    "\n",
    "normalized = pandas.read_csv(\"advertising_dataset.csv\")\n",
    "# Replace NaNs.\n",
    "for i in normalized.columns[1:5]:\n",
    "    normalized[i].fillna(normalized[i].mean(), inplace=True)\n",
    "# Normalize one of files.\n",
    "temp = normalized['Clicked on Ad']\n",
    "normalized.drop(columns = ['Unnamed: 0', 'Ad Topic Line', 'City', 'Gender', 'Country', 'Timestamp'], inplace=True)\n",
    "normalized = (file_content - normalized.mean()) / normalized.std()\n",
    "normalized['Clicked on Ad'] = temp\n",
    "\n",
    "mean_click = normalized.groupby('Clicked on Ad')['Daily Internet Usage'].mean()[1]\n",
    "mean_not_click = normalized.groupby('Clicked on Ad')['Daily Internet Usage'].mean()[0]\n",
    "std_click = normalized.groupby('Clicked on Ad')['Daily Internet Usage'].std()[1]\n",
    "std_not_click = normalized.groupby('Clicked on Ad')['Daily Internet Usage'].std()[0]\n",
    "\n",
    "norm_click = scipy.stats.norm(mean_click, std_click)\n",
    "norm_not_click = scipy.stats.norm(mean_not_click, std_not_click)\n",
    "\n",
    "d = {'index': [], 'Predicted Clicked on Ad': []}\n",
    "result = pandas.DataFrame(data=d)\n",
    "\n",
    "for i in range(1000):\n",
    "    if normalized['Clicked on Ad'][i] != numpy.float64(0) and normalized['Clicked on Ad'][i] != numpy.float64(1):\n",
    "        predict = -1\n",
    "        if norm_click.pdf(normalized['Daily Internet Usage'][i]) > norm_not_click.pdf(normalized['Daily Internet Usage'][i]):\n",
    "            predict = 1\n",
    "        else:\n",
    "            predict = 0\n",
    "            \n",
    "        d = {'index': [i], 'Predicted Clicked on Ad': [predict]}\n",
    "        result = result.append(pandas.DataFrame(data=d))\n",
    "        \n",
    "result.to_csv('result.csv', index = False)"
   ]
  }
 ],
 "metadata": {
  "kernelspec": {
   "display_name": "Python 3",
   "language": "python",
   "name": "python3"
  },
  "language_info": {
   "codemirror_mode": {
    "name": "ipython",
    "version": 3
   },
   "file_extension": ".py",
   "mimetype": "text/x-python",
   "name": "python",
   "nbconvert_exporter": "python",
   "pygments_lexer": "ipython3",
   "version": "3.6.9"
  }
 },
 "nbformat": 4,
 "nbformat_minor": 4
}
